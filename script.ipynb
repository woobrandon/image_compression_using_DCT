{
 "cells": [
  {
   "cell_type": "code",
   "execution_count": 1,
   "id": "eb00e65d-10b3-49fe-b377-706d138b958c",
   "metadata": {},
   "outputs": [],
   "source": [
    "from package import main"
   ]
  },
  {
   "cell_type": "code",
   "execution_count": 2,
   "id": "bc1fb3ba-7c72-4578-aba9-15dbf6ed4b01",
   "metadata": {},
   "outputs": [],
   "source": [
    "im = main.importim(\"sample.png\")\n",
    "transformed_im = main.dct2d(im)\n",
    "compressed_im = main.imcompress(transformed_im,10)\n",
    "decompressed_im = main.imdecomp(compressed_im)\n",
    "main.showim(decompressed_im)"
   ]
  }
 ],
 "metadata": {
  "kernelspec": {
   "display_name": "Python 3 (ipykernel)",
   "language": "python",
   "name": "python3"
  },
  "language_info": {
   "codemirror_mode": {
    "name": "ipython",
    "version": 3
   },
   "file_extension": ".py",
   "mimetype": "text/x-python",
   "name": "python",
   "nbconvert_exporter": "python",
   "pygments_lexer": "ipython3",
   "version": "3.11.2"
  }
 },
 "nbformat": 4,
 "nbformat_minor": 5
}
